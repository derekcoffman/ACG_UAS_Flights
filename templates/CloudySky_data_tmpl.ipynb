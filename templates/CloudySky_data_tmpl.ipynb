{
 "cells": [
  {
   "cell_type": "markdown",
   "id": "f6b28415-be67-465b-960a-8276ccf58148",
   "metadata": {
    "tags": []
   },
   "source": [
    "# UAS Flight Analysis: CloudySky"
   ]
  },
  {
   "cell_type": "markdown",
   "id": "721996cc-ac66-428b-ae02-352c13d9a3e5",
   "metadata": {
    "tags": []
   },
   "source": [
    "## Setup"
   ]
  },
  {
   "cell_type": "markdown",
   "id": "734337b1-062d-456a-b78b-1aa4b039e73c",
   "metadata": {
    "tags": []
   },
   "source": [
    "### Imports"
   ]
  },
  {
   "cell_type": "code",
   "execution_count": null,
   "id": "728ad105-d689-4fee-85e3-d05ee90e3001",
   "metadata": {},
   "outputs": [],
   "source": [
    "%load_ext autoreload\n",
    "%autoreload 2\n",
    "\n",
    "import json\n",
    "import os\n",
    "import sys\n",
    "\n",
    "from datetime import datetime, timedelta\n",
    "\n",
    "import hvplot\n",
    "import hvplot.pandas\n",
    "import hvplot.xarray\n",
    "import numpy as np\n",
    "import pandas as pd\n",
    "import xarray as xr\n",
    "\n",
    "import holoviews as hv\n",
    "from bokeh.models.renderers import GlyphRenderer\n",
    "from bokeh.models import Range1d, LinearAxis, DatetimeTickFormatter\n",
    "\n",
    "hv.extension('bokeh')\n",
    "\n",
    "# sys.path.insert(0, \"/home/derek/Software/python/envDataSystem_analysis/utilities\")\n",
    "flight_path = os.path.abspath(\"\")\n",
    "proj_path = os.path.dirname(os.path.dirname(os.path.dirname(os.path.abspath(\"\"))))\n",
    "code_path = os.path.join(proj_path, \"code\")\n",
    "if proj_path not in sys.path:\n",
    "    sys.path.insert(0, proj_path)\n",
    "if code_path not in sys.path:\n",
    "    sys.path.insert(0, code_path)\n",
    "# print(sys.path)\n",
    "from convert import Data, dt_to_string, string_to_dt\n",
    "from dataevent import (\n",
    "    DataEvent,\n",
    "    save_for_invert_msems,\n",
    "    load_inverted_msems,\n",
    "    process_msems,\n",
    "    process_cdp,\n",
    "    save_flight_itx\n",
    ")\n",
    "import config.settings"
   ]
  },
  {
   "cell_type": "markdown",
   "id": "5c6795e4-1482-49e9-9c6f-bfba6dd4023d",
   "metadata": {
    "tags": []
   },
   "source": [
    "### Data systems\n",
    "Define the datasystem(s). This includes base paths, instruments with variable maps and extra parameters specific to each instrument. This should change to much flight to flight but the paths might need to be changed to point to the data."
   ]
  },
  {
   "cell_type": "code",
   "execution_count": 1,
   "id": "9556e460-144d-408d-be31-08e97dbf6c12",
   "metadata": {},
   "outputs": [
    {
     "ename": "NameError",
     "evalue": "name 'config' is not defined",
     "output_type": "error",
     "traceback": [
      "\u001b[0;31m---------------------------------------------------------------------------\u001b[0m",
      "\u001b[0;31mNameError\u001b[0m                                 Traceback (most recent call last)",
      "\u001b[0;32m/tmp/ipykernel_17788/4158973858.py\u001b[0m in \u001b[0;36m<module>\u001b[0;34m\u001b[0m\n\u001b[1;32m      3\u001b[0m         \"uas_cloudy\": {\n\u001b[1;32m      4\u001b[0m             \u001b[0;31m# \"base_path\": \"/home/derek/Data/envDataSystem/from_cloudbase/UIServer/cloudy1.acg.pmel.noaa.gov/cloudysky\",\u001b[0m\u001b[0;34m\u001b[0m\u001b[0;34m\u001b[0m\u001b[0;34m\u001b[0m\u001b[0m\n\u001b[0;32m----> 5\u001b[0;31m             \u001b[0;34m\"base_path\"\u001b[0m\u001b[0;34m:\u001b[0m \u001b[0mconfig\u001b[0m\u001b[0;34m.\u001b[0m\u001b[0msettings\u001b[0m\u001b[0;34m.\u001b[0m\u001b[0mENVDSYS_CLOUDYSKY_DATA_PATH\u001b[0m\u001b[0;34m,\u001b[0m\u001b[0;34m\u001b[0m\u001b[0;34m\u001b[0m\u001b[0m\n\u001b[0m\u001b[1;32m      6\u001b[0m             \"instruments\": {\n\u001b[1;32m      7\u001b[0m                 \"ambient_trh\": {\n",
      "\u001b[0;31mNameError\u001b[0m: name 'config' is not defined"
     ]
    }
   ],
   "source": [
    "flight_datasystems = {\n",
    "    \"CloudySky\": {\n",
    "        \"uas_cloudy\": {\n",
    "            # \"base_path\": \"/home/derek/Data/envDataSystem/from_cloudbase/UIServer/cloudy1.acg.pmel.noaa.gov/cloudysky\",\n",
    "            \"base_path\": config.settings.ENVDSYS_CLOUDYSKY_DATA_PATH,\n",
    "            \"instruments\": {\n",
    "                \"ambient_trh\": {\n",
    "                    \"format\": \"envdsys\",\n",
    "                    \"timebase\": 1,\n",
    "                    \"dims\": [\"time\"],\n",
    "                    \"variables\": [\n",
    "                        (\"temperature\", \"ambient_T\", \"ambient_temperature\"),\n",
    "                        (\n",
    "                            \"relative_humidity\",\n",
    "                            \"ambient_rh\",\n",
    "                            \"ambient_relative_humidity\",\n",
    "                        ),\n",
    "                    ],\n",
    "                },\n",
    "                \"fast_trh\": {\n",
    "                    \"format\": \"envdsys\",\n",
    "                    \"timebase\": 1,\n",
    "                    \"dims\": [\"time\"],\n",
    "                    \"variables\": [\n",
    "                        (\"temperature\", \"fast_ambient_T\", \"fast_ambient_temperature\"),\n",
    "                        (\n",
    "                            \"relative_humidity\",\n",
    "                            \"fast_ambient_rh\",\n",
    "                            \"fast_ambient_relative_humidity\",\n",
    "                        ),\n",
    "                    ],\n",
    "                },\n",
    "                \"msems_sheath_trh\": {\n",
    "                    \"format\": \"envdsys\",\n",
    "                    \"timebase\": 1,\n",
    "                    \"dims\": [\"time\"],\n",
    "                    \"variables\": [\n",
    "                        (\"temperature\", \"msems_sh_T\", \"msems_sheath_temperature\"),\n",
    "                        (\n",
    "                            \"relative_humidity\",\n",
    "                            \"msems_sh_rh\",\n",
    "                            \"msems_sheath_relative_humidity\",\n",
    "                        ),\n",
    "                    ],\n",
    "                },\n",
    "                \"cloudy_cdp\": {\n",
    "                    \"format\": \"envdsys\",\n",
    "                    \"timebase\": 1,\n",
    "                    \"dims\": [\"time\", \"cdp_bins\"],\n",
    "                    \"process_options\": {\"type\": \"cdp\"},\n",
    "                    \"variables\": [\n",
    "                        (\"bin_counts\", \"cdp_bin_counts\", \"cloudy_cdp_bin_counts\"),\n",
    "                        (\"diameter_um\", \"cdp_dp_um_2d\", \"cloudy_cdp_diameter_um_2d\"),\n",
    "                        (\"integral_counts\", \"cdp_intN\", \"cloudy_cdp_integral_counts\"),\n",
    "                        (\n",
    "                            \"laser_current\",\n",
    "                            \"cdp_laser_current\",\n",
    "                            \"cloudy_cdp_laser_current\",\n",
    "                        ),\n",
    "                        # 'dump_spot_monitor',\n",
    "                        (\n",
    "                            \"wingboard_temperature\",\n",
    "                            \"cdp_wingboard_T\",\n",
    "                            \"cloudy_cdp_wingboard_temperature\",\n",
    "                        ),\n",
    "                        (\n",
    "                            \"laser_temperature\",\n",
    "                            \"cdp_laser_T\",\n",
    "                            \"cloudy_cdp_laser_temperature\",\n",
    "                        ),\n",
    "                        (\n",
    "                            \"control_board_temperature\",\n",
    "                            \"cdp_control_board_T\",\n",
    "                            \"cloudy_cdp_control_board_temperature\",\n",
    "                        ),\n",
    "                        # ('average_transit',\n",
    "                    ],\n",
    "                },\n",
    "                \"cloudy_msems\": {\n",
    "                    \"format\": \"envdsys\",\n",
    "                    \"timebase\": 30,\n",
    "                    \"resample\": False,\n",
    "                    \"dims\": [\"time\", \"msems_bins\"],\n",
    "                    \"invert_path\": os.path.join(flight_path, \"data/msems_inversion\"),\n",
    "                    \"process_options\": {\"type\": \"msems\"},\n",
    "                    \"variables\": [\n",
    "                        (\"bin_counts\", \"msems_bin_counts\", \"cloudy_msems_bin_counts\"),\n",
    "                        (\"diameter_um\", \"msems_dp_um_2d\", \"cloudy_msems_diameter_um\"),\n",
    "                        (\n",
    "                            \"scan_direction\",\n",
    "                            \"msems_scan_direction\",\n",
    "                            \"cloudy_msems_scan_direction\",\n",
    "                        ),\n",
    "                        (\n",
    "                            \"sheath_flow_avg\",\n",
    "                            \"msems_sheath_flow_avg\",\n",
    "                            \"cloudy_msems_sheath_flow_avg\",\n",
    "                        ),\n",
    "                        (\n",
    "                            \"sheath_flow_sd\",\n",
    "                            \"msems_sheath_flow_sd\",\n",
    "                            \"cloudy_msems_sheath_flow_sd\",\n",
    "                        ),\n",
    "                        (\n",
    "                            \"sample_flow_avg\",\n",
    "                            \"msems_sample_flow_avg\",\n",
    "                            \"cloudy_msems_sample_flow_avg\",\n",
    "                        ),\n",
    "                        (\n",
    "                            \"sample_flow_sd\",\n",
    "                            \"msems_sample_flow_sd\",\n",
    "                            \"cloudy_msems_sample_flow_sd\",\n",
    "                        ),\n",
    "                        (\n",
    "                            \"pressure_avg\",\n",
    "                            \"msems_pressure_avg\",\n",
    "                            \"cloudy_msems_pressure_avg\",\n",
    "                        ),\n",
    "                        (\n",
    "                            \"pressure_sd\",\n",
    "                            \"msems_pressure_sd\",\n",
    "                            \"cloudy_msems_pressure_sd\",\n",
    "                        ),\n",
    "                        (\n",
    "                            \"temperature_avg\",\n",
    "                            \"msems_T_avg\",\n",
    "                            \"cloudy_msems_temperature_avg\",\n",
    "                        ),\n",
    "                        (\"temperature_sd\", \"msems_T_sd\", \"cloudy_msems_temprature_sd\"),\n",
    "                        # 'msems_error',\n",
    "                        (\n",
    "                            \"mcpc_sample_flow\",\n",
    "                            \"mcpc_sample_flow\",\n",
    "                            \"cloudy_msems_mcpc_sample_flow\",\n",
    "                        ),\n",
    "                        (\n",
    "                            \"mcpc_saturator_flow\",\n",
    "                            \"mcpc_saturator_flow\",\n",
    "                            \"cloudy_msems_mcpc_saturator_flow\",\n",
    "                        ),\n",
    "                        (\n",
    "                            \"mcpc_condenser_temp\",\n",
    "                            \"mcpc_condenser_T\",\n",
    "                            \"cloudy_msems_mcpc_condenser_temp\",\n",
    "                        ),\n",
    "                        # 'mcpc_error',\n",
    "                        (\"bin_time\", \"msems_bin_time\", \"cloudy_msems_bin_time\"),\n",
    "                        (\"scan_type\", \"msems_scan_type\", \"cloudy_msems_scan_type\"),\n",
    "                        (\n",
    "                            \"plumbing_time\",\n",
    "                            \"msems_plumbing_time\",\n",
    "                            \"cloudy_msems_plumbing_time\",\n",
    "                        ),\n",
    "                    ],\n",
    "                },\n",
    "            },\n",
    "        }\n",
    "    },\n",
    "    \"GroundStation\": {\n",
    "        \"uasground\": {\n",
    "            # \"base_path\": \"/home/derek/Data/envDataSystem/from_cloudbase\",\n",
    "            \"base_path\": config.settings.ENVDSYS_GROUDSTATION_DATA_PATH,\n",
    "            # \"base_path\": \"/home/derek/Data/envDataSystem/from_cloudbase/UIServer/cloudy1.acg.pmel.noaa.gov/UASGroundTest\",\n",
    "            \"instruments\": {\n",
    "                \"amcpc_cn\": {\n",
    "                    \"format\": \"envdsys\",\n",
    "                    \"timebase\": 1,\n",
    "                    \"dims\": [\"time\"],\n",
    "                    \"variables\": [\n",
    "                        (\"concentration\", \"ground_cn\", \"amcpc_cn_concentration\"),\n",
    "                    ],\n",
    "                },\n",
    "                # \"magic_cn\": {\n",
    "                #     \"format\": \"envdsys\",\n",
    "                #     \"timebase\": 1,\n",
    "                #     \"dims\": [\"time\"],\n",
    "                #     \"variables\": [\n",
    "                #         (\"concentration\", \"magci_cn\", \"magic_cn_concentration\"),\n",
    "                #     ]\n",
    "                # }\n",
    "            },\n",
    "        }\n",
    "    },\n",
    "    \"AutoPilot\": {\n",
    "        \"navigation\": {\n",
    "            # \"base_path\": \"/home/derek/Data/UAS/autopilot/piccolo\", \n",
    "            \"base_path\": \"./data/piccolo\",\n",
    "            \"instruments\": {\n",
    "                \"piccolo\": {\n",
    "                    \"format\": \"piccolo-log\",\n",
    "                    \"timebase\": 1,\n",
    "                    \"dims\": [\"time\"],\n",
    "                    \"variables\": [\n",
    "                        (\"Lat\", \"latitude\", \"\"),\n",
    "                        (\"Lon\", \"longitude\", \"\"),\n",
    "                        (\"Height\", \"altitude\", \"\"),\n",
    "                        (\"GroundSpeed\", \"ground_speed\", \"\"),\n",
    "                        (\"Direction\", \"heading\", \"\"),\n",
    "                        (\"BaroAlt\", \"pressure_altitude\", \"\"),\n",
    "                        (\"TAS\", \"true_air_speed\", \"\"),\n",
    "                        (\"Roll\", \"roll\", \"\"),\n",
    "                        (\"Pitch\", \"pitch\", \"\"),\n",
    "                        (\"Yaw\", \"yaw\", \"\"),\n",
    "                        (\"MagHdg\", \"heading_mag\", \"\"),\n",
    "                        (\"AGL\", \"height_agl\", \"\"),\n",
    "                    ]\n",
    "                }\n",
    "            }\n",
    "        }\n",
    "    }\n",
    "}"
   ]
  },
  {
   "cell_type": "markdown",
   "id": "15c3e1bf-ecb3-473c-ae14-0ad145959962",
   "metadata": {
    "tags": []
   },
   "source": [
    "## Flight Details"
   ]
  },
  {
   "cell_type": "markdown",
   "id": "46d034a8-1d0f-42b8-bfd5-b94e0ec2d479",
   "metadata": {
    "tags": []
   },
   "source": [
    "### Flight ID"
   ]
  },
  {
   "cell_type": "code",
   "execution_count": null,
   "id": "e13ee95d-bada-4f6c-977a-5fb5982fc382",
   "metadata": {},
   "outputs": [],
   "source": [
    "project = \"<ProjectID>\"\n",
    "project_long_name = \"<Long Project Name>\"\n",
    "platform = \"<PlatformName>\" # FVR-55, AeroPhys, RHBrown\n",
    "flight_id = \"<Flight_??>\""
   ]
  },
  {
   "cell_type": "markdown",
   "id": "f8fe26f6-5993-4f6a-95b1-af262e628d7c",
   "metadata": {
    "jp-MarkdownHeadingCollapsed": true,
    "tags": []
   },
   "source": [
    "### Event Data"
   ]
  },
  {
   "cell_type": "code",
   "execution_count": null,
   "id": "a0d1e0e0-e3ce-4951-8bfc-eafb5345ca95",
   "metadata": {},
   "outputs": [],
   "source": [
    "# shouldn't change this if using the templates\n",
    "payload_id = \"CloudySky\"\n",
    "\n",
    "flight_event_config = {\n",
    "    \"preflight\": {\n",
    "            \"start_time\": \"2022-02-01T21:00:00Z\",\n",
    "            \"end_time\": \"2022-02-01T22:00:00Z\",\n",
    "            \"datasystems\": [\"CloudySky\", \"GroundStation\"],\n",
    "        },\n",
    "    \"flight\": {\n",
    "        \"start_time\": \"2022-02-16T20:00:00Z\",\n",
    "        \"end_time\": \"2022-02-16T22:15:00Z\",\n",
    "        \"datasystems\": [\"CloudySky\", \"GroundStation\"],\n",
    "    },\n",
    "    \"postflight\": {},\n",
    "}\n",
    "\n",
    "# --- automatically generated - don't edit below this line ---\n",
    "flight_config = {\n",
    "    \"kind\": \"CloudySkyFlight\",\n",
    "    \"metadata\": {\"project\": project, \"platform\": platform, \"flight_id\": flight_id, \"payload_id\": payload_id},\n",
    "    \"events\": flight_event_config,\n",
    "    \"datasystems\": flight_datasystems,\n",
    "}\n",
    "# flight_config"
   ]
  },
  {
   "cell_type": "markdown",
   "id": "403e5d2a-910b-4b68-9800-942850f1199c",
   "metadata": {
    "tags": []
   },
   "source": [
    "## Load Data\n",
    "Un/comment lines as needed. Multiple events can be processed if wanted. Will load data based on Event Data cell above"
   ]
  },
  {
   "cell_type": "markdown",
   "id": "21f49fd4-8a20-4420-bfc3-0e58c71c6b3a",
   "metadata": {
    "tags": []
   },
   "source": [
    "### Create Event(s)"
   ]
  },
  {
   "cell_type": "code",
   "execution_count": null,
   "id": "dd51629f-0331-4238-8b60-9f18d4ab4791",
   "metadata": {},
   "outputs": [],
   "source": [
    "# create preflight event\n",
    "# preflight_event = DataEvent(\"preflight\", config=flight_config)\n",
    "\n",
    "# create flight event\n",
    "flight_event = DataEvent(\"flight\", config=flight_config)\n",
    "\n",
    "# create postflight event\n",
    "# postflight_event = DataEvent(\"postflight\", config=flight_config)"
   ]
  },
  {
   "cell_type": "markdown",
   "id": "c7921016-2caf-40bd-9dc0-f81470ddeca4",
   "metadata": {
    "tags": []
   },
   "source": [
    "### Invert mSEMS data \n",
    "Save msems data and invert using Igor. Simply process each file that is listed in the output from the previous cell. You don't need to save any data, the inversion function automatically writes a file to same folder as the input file. The save/load cycle needs to be done separately for each event type"
   ]
  },
  {
   "cell_type": "markdown",
   "id": "5972972d-000d-44e7-b9d2-a0374b902e6e",
   "metadata": {
    "jp-MarkdownHeadingCollapsed": true,
    "tags": []
   },
   "source": [
    "#### Pre-flight"
   ]
  },
  {
   "cell_type": "code",
   "execution_count": null,
   "id": "3a5c948e-42bc-4439-8c27-6756cb99ca4d",
   "metadata": {},
   "outputs": [],
   "source": [
    "# saves files for use in Igor\n",
    "save_for_invert_msems(\n",
    "    \"cloudy_msems\",\n",
    "    event_id=\"preflight\",\n",
    "    datasystem=\"CloudySky\",\n",
    "    controller=\"uas_cloudy\",\n",
    "    config=flight_config,\n",
    ")"
   ]
  },
  {
   "cell_type": "code",
   "execution_count": null,
   "id": "77976cb6-91a9-48c4-8ca9-ab9f20bb3fc7",
   "metadata": {},
   "outputs": [],
   "source": [
    "# reads files from Igor inversion\n",
    "load_inverted_msems(\n",
    "    \"cloudy_msems\",\n",
    "    event_id=\"preflight\",\n",
    "    datasystem=\"CloudySky\",\n",
    "    controller=\"uas_cloudy\",\n",
    "    config=flight_config,\n",
    "    data=preflight_event.get_data(),\n",
    ")"
   ]
  },
  {
   "cell_type": "markdown",
   "id": "68c2acd4-90e1-4204-a495-271fa99686de",
   "metadata": {
    "tags": []
   },
   "source": [
    "#### Flight"
   ]
  },
  {
   "cell_type": "code",
   "execution_count": null,
   "id": "efdb360b-af7b-4c97-a3ed-5ca40dd830ca",
   "metadata": {},
   "outputs": [],
   "source": [
    "save_for_invert_msems(\n",
    "    \"cloudy_msems\",\n",
    "    event_id=\"flight\",\n",
    "    datasystem=\"CloudySky\",\n",
    "    controller=\"uas_cloudy\",\n",
    "    config=flight_config,\n",
    ")"
   ]
  },
  {
   "cell_type": "code",
   "execution_count": null,
   "id": "e007ac1a-6c5d-4ded-a673-02e9f61ab981",
   "metadata": {},
   "outputs": [],
   "source": [
    "load_inverted_msems(\n",
    "    \"cloudy_msems\",\n",
    "    event_id=\"flight\",\n",
    "    datasystem=\"CloudySky\",\n",
    "    controller=\"uas_cloudy\",\n",
    "    config=flight_config,\n",
    "    data=flight_event.get_data(),\n",
    ")"
   ]
  },
  {
   "cell_type": "markdown",
   "id": "0d21eb5a-d6a6-4166-86c0-4b4e0b4912f8",
   "metadata": {
    "jp-MarkdownHeadingCollapsed": true,
    "tags": []
   },
   "source": [
    "#### Post-flight"
   ]
  },
  {
   "cell_type": "code",
   "execution_count": null,
   "id": "9ec2d938-44a3-4fbc-bfd1-c513bd01b2d8",
   "metadata": {},
   "outputs": [],
   "source": [
    "save_for_invert_msems(\n",
    "    \"cloudy_msems\",\n",
    "    event_id=\"postflight\",\n",
    "    datasystem=\"CloudySky\",\n",
    "    controller=\"uas_cloudy\",\n",
    "    config=flight_config,\n",
    ")"
   ]
  },
  {
   "cell_type": "code",
   "execution_count": null,
   "id": "626cffb9-a08e-4deb-8b53-a546733f7039",
   "metadata": {},
   "outputs": [],
   "source": [
    "load_inverted_msems(\n",
    "    \"cloudy_msems\",\n",
    "    event_id=\"postflight\",\n",
    "    datasystem=\"CloudySky\",\n",
    "    controller=\"uas_cloudy\",\n",
    "    config=flight_config,\n",
    "    data=preflight_event.get_data(),\n",
    ")"
   ]
  },
  {
   "cell_type": "markdown",
   "id": "ed6bf7c2-6b03-4be9-8349-be3cbcae749a",
   "metadata": {
    "tags": []
   },
   "source": [
    "### Process data"
   ]
  },
  {
   "cell_type": "markdown",
   "id": "75725e8b-1d86-4a78-8641-4c3dc72545fb",
   "metadata": {
    "tags": []
   },
   "source": [
    "#### mSEMS"
   ]
  },
  {
   "cell_type": "code",
   "execution_count": null,
   "id": "91c7f189-6198-49ae-aa5a-f37215d7351a",
   "metadata": {},
   "outputs": [],
   "source": [
    "# pre_msems = preflight_event.get_dataset(\"cloudy_msems\", datasystem=\"CloudySky\", controller=\"uas_cloudy\")\n",
    "# process_msems(pre_msems)\n",
    "\n",
    "flight_event.process_msems(\n",
    "    \"cloudy_msems\", datasystem=\"CloudySky\", controller=\"uas_cloudy\"\n",
    ")\n",
    "msems = flight_event.get_dataset(\n",
    "    \"cloudy_msems\", datasystem=\"CloudySky\", controller=\"uas_cloudy\"\n",
    ")\n",
    "# process_msems(msems)\n",
    "\n",
    "# post_msems = flight_event.get_dataset(\"cloudy_msems\", datasystem=\"CloudySky\", controller=\"uas_cloudy\")\n",
    "# process_msems(post_msems)"
   ]
  },
  {
   "cell_type": "markdown",
   "id": "118d2dc4-5cb5-4e9c-878f-9e40d177fd5b",
   "metadata": {
    "tags": []
   },
   "source": [
    "#### CDP"
   ]
  },
  {
   "cell_type": "code",
   "execution_count": null,
   "id": "060548b4-e55b-46c3-92f3-9b8759c8770b",
   "metadata": {},
   "outputs": [],
   "source": [
    "# pre_msems = preflight_event.get_dataset(\"cloudy_cdp\", datasystem=\"CloudySky\", controller=\"uas_cloudy\")\n",
    "# process_msems(pre_msems)\n",
    "\n",
    "flight_event.process_cdp(\"cloudy_cdp\", datasystem=\"CloudySky\", controller=\"uas_cloudy\")\n",
    "cdp = flight_event.get_dataset(\n",
    "    \"cloudy_cdp\", datasystem=\"CloudySky\", controller=\"uas_cloudy\"\n",
    ")\n",
    "# process_cdp(cdp)\n",
    "\n",
    "# post_msems = flight_event.get_dataset(\"cloudy_cdp\", datasystem=\"CloudySky\", controller=\"uas_cloudy\")\n",
    "# process_msems(post_msems)"
   ]
  },
  {
   "cell_type": "markdown",
   "id": "cb5fefcd-38a2-45ad-acfa-56c2913e9ba9",
   "metadata": {},
   "source": [
    "#### Autopilot"
   ]
  },
  {
   "cell_type": "code",
   "execution_count": 10,
   "id": "06b81658-8eb8-461f-abb5-29d3ef01d535",
   "metadata": {},
   "outputs": [],
   "source": [
    "flight_event.process_piccolo(\"piccolo\", datasystem=\"AutoPilot\", controller=\"navigation\")\n",
    "nav = flight_event.get_dataset(\"piccolo\", datasystem=\"AutoPilot\", controller=\"navigation\")\n",
    "# process_cdp(cdp)\n"
   ]
  },
  {
   "cell_type": "markdown",
   "id": "53fdd540-beb4-4581-9110-530224216643",
   "metadata": {
    "tags": []
   },
   "source": [
    "### Merge datasets\n",
    "Combine datasets on a common timebase. User can specify timebase (tb=1 is default) and list of datasets (ds_list). If ds_list is omitted, all available datasets are merged."
   ]
  },
  {
   "cell_type": "code",
   "execution_count": null,
   "id": "384b33f3-aba4-4957-b52d-8205402649ac",
   "metadata": {},
   "outputs": [],
   "source": [
    "# preflight = preflight_event.merge()\n",
    "# preflight_30s = preflight_event.merge(tb=30, ds_list=[\"cloudy_msems\", \"fast_trh\"])\n",
    "\n",
    "flight = flight_event.merge()\n",
    "flight_30s = flight_event.merge(tb=30, ds_list=[\"cloudy_msems\", \"piccolo\", \"ambient_rh\", \"fast_trh\", \"amcpc_cn\"])\n",
    "\n",
    "# postflight = postflight_event.merge()\n",
    "# postflight_30s = postflight_event.merge(tb=30, ds_list=[\"cloudy_msems\", \"fast_trh\"])"
   ]
  },
  {
   "cell_type": "markdown",
   "id": "5de54d06-03b2-47f0-9740-4cdc0c50b756",
   "metadata": {},
   "source": [
    "### Save datasets"
   ]
  },
  {
   "cell_type": "code",
   "execution_count": null,
   "id": "eb628cc9-9413-4b96-89e6-79b8c78b5e17",
   "metadata": {},
   "outputs": [],
   "source": [
    "# save_flight_itx(preflight)\n",
    "# save_flight_itx(preflight_30s)\n",
    "\n",
    "save_flight_itx(flight)\n",
    "save_flight_itx(flight_30s)\n",
    "\n",
    "# save_flight_itx(postflight)\n",
    "# save_flight_itx(postflight_30s)"
   ]
  },
  {
   "cell_type": "markdown",
   "id": "e792cab2-19f5-4973-ba1f-d943994c5433",
   "metadata": {
    "tags": []
   },
   "source": [
    "## Data Analysis\n",
    "Add descriptive text in [markdown](https://jupyter-notebook.readthedocs.io/en/latest/examples/Notebook/Working%20With%20Markdown%20Cells.html) cells and run code in the default code cells. "
   ]
  },
  {
   "cell_type": "markdown",
   "id": "04f004d3-fcd6-4823-a6f8-a2405853b281",
   "metadata": {},
   "source": [
    "*This would be description of particular data analysis*"
   ]
  },
  {
   "cell_type": "code",
   "execution_count": 2,
   "id": "86f4d2a6-44f2-42a9-bbab-bef7e417c045",
   "metadata": {},
   "outputs": [
    {
     "ename": "NameError",
     "evalue": "name 'flight' is not defined",
     "output_type": "error",
     "traceback": [
      "\u001b[0;31m---------------------------------------------------------------------------\u001b[0m",
      "\u001b[0;31mNameError\u001b[0m                                 Traceback (most recent call last)",
      "\u001b[0;32m/tmp/ipykernel_17788/860712966.py\u001b[0m in \u001b[0;36m<module>\u001b[0;34m\u001b[0m\n\u001b[1;32m      1\u001b[0m \u001b[0;31m# code cell\u001b[0m\u001b[0;34m\u001b[0m\u001b[0;34m\u001b[0m\u001b[0;34m\u001b[0m\u001b[0m\n\u001b[0;32m----> 2\u001b[0;31m \u001b[0mflight\u001b[0m\u001b[0;34m\u001b[0m\u001b[0;34m\u001b[0m\u001b[0m\n\u001b[0m",
      "\u001b[0;31mNameError\u001b[0m: name 'flight' is not defined"
     ]
    }
   ],
   "source": [
    "# code cell\n",
    "flight"
   ]
  },
  {
   "cell_type": "code",
   "execution_count": null,
   "id": "dda7b518-8ea5-4248-b6e4-8952c546a1fe",
   "metadata": {},
   "outputs": [],
   "source": [
    "flight_30s"
   ]
  },
  {
   "cell_type": "markdown",
   "id": "42fdefbb-384c-4cb9-8316-6492298a4726",
   "metadata": {},
   "source": [
    "### Visualization"
   ]
  },
  {
   "cell_type": "markdown",
   "id": "9ca289e9-50c7-4fde-861a-e2c8526d2920",
   "metadata": {
    "jp-MarkdownHeadingCollapsed": true,
    "tags": []
   },
   "source": [
    "#### Standard Plot Definitions\n",
    "This is a list of standard plots that we might want to see. Run the following cell to create the plots for use below. "
   ]
  },
  {
   "cell_type": "code",
   "execution_count": null,
   "id": "e3494aa2-2ecf-4fcc-b544-f45db853be9d",
   "metadata": {},
   "outputs": [],
   "source": [
    "dt_formatter = DatetimeTickFormatter(\n",
    "    years=\"%Y\", months=\"%Y-%m\", days=\"%F\", hours=\"%m-%d %H:%M\", hourmin=\"%m-%d %H:%M\", minutes=\"%H:%M\", minsec=\"%T\", seconds=\"%T\", milliseconds=\"%T.%1N\"\n",
    ")\n",
    "\n",
    "msems_dndlogdp_im = (\n",
    "    flight_30s.set_coords(\"time_mid\")\n",
    "    .swap_dims({\"time\": \"time_mid\", \"msems_bins\": \"msems_dp_um\"})\n",
    "    .reset_coords()\n",
    "    .msems_dNdlogDp.hvplot.quadmesh(\n",
    "        x=\"time_mid\",\n",
    "        y=\"msems_dp_um\",\n",
    "        logy=True,\n",
    "        cmap=\"rainbow\",\n",
    "        responsive=True,\n",
    "        min_width=300,\n",
    "        min_height=300,\n",
    "        xformatter=dt_formatter,\n",
    "        label=\"mSEMS dNdlogDp\"\n",
    "    )\n",
    ")\n",
    "msems_dndlogdp_scans = (\n",
    "    flight_30s.set_coords(\"time_mid\")\n",
    "    .swap_dims({\"msems_bins\": \"msems_dp_um\"})\n",
    "    .reset_coords()\n",
    "    .msems_dNdlogDp.hvplot.line(\n",
    "        x=\"msems_dp_um\", logx=True, responsive=True, min_width=300, min_height=300, label=\"mSEMS dNdlogDp\"\n",
    "    )\n",
    ")\n",
    "\n",
    "msems_dsdlogdp_im = (\n",
    "    flight_30s.set_coords(\"time_mid\")\n",
    "    .swap_dims({\"time\": \"time_mid\", \"msems_bins\": \"msems_dp_um\"})\n",
    "    .reset_coords()\n",
    "    .msems_dSdlogDp.hvplot.quadmesh(\n",
    "        x=\"time_mid\",\n",
    "        y=\"msems_dp_um\",\n",
    "        logy=True,\n",
    "        cmap=\"rainbow\",\n",
    "        responsive=True,\n",
    "        min_width=300,\n",
    "        min_height=300,\n",
    "        xformatter=dt_formatter,\n",
    "        label=\"mSEMS dSdlogDp\"\n",
    "    )\n",
    ")\n",
    "msems_dsdlogdp_scans = (\n",
    "    flight_30s.set_coords(\"time_mid\")\n",
    "    .swap_dims({\"msems_bins\": \"msems_dp_um\"})\n",
    "    .reset_coords()\n",
    "    .msems_dSdlogDp.hvplot.line(\n",
    "        x=\"msems_dp_um\", logx=True, responsive=True, min_width=300, min_height=300, label=\"mSEMS dSdlogDp\"\n",
    "    )\n",
    ")\n",
    "\n",
    "msems_dvdlogdp_im = (\n",
    "    flight_30s.set_coords(\"time_mid\")\n",
    "    .swap_dims({\"time\": \"time_mid\", \"msems_bins\": \"msems_dp_um\"})\n",
    "    .reset_coords()\n",
    "    .msems_dVdlogDp.hvplot.quadmesh(\n",
    "        x=\"time_mid\",\n",
    "        y=\"msems_dp_um\",\n",
    "        logy=True,\n",
    "        cmap=\"rainbow\",\n",
    "        responsive=True,\n",
    "        min_width=300,\n",
    "        min_height=300,\n",
    "        xformatter=dt_formatter,\n",
    "        label=\"mSEMS dVdlogDp\"\n",
    "    )\n",
    ")\n",
    "msems_dvdlogdp_scans = (\n",
    "    flight_30s.set_coords(\"time_mid\")\n",
    "    .swap_dims({\"msems_bins\": \"msems_dp_um\"})\n",
    "    .reset_coords()\n",
    "    .msems_dVdlogDp.hvplot.line(\n",
    "        x=\"msems_dp_um\", logx=True, responsive=True, min_width=300, min_height=300, label=\"mSEMS dVdlogDp\"\n",
    "    )\n",
    ")\n",
    "\n",
    "msems_intN_ts = flight_30s.msems_intN.hvplot.scatter(\n",
    "    label=\"mSEMS intN\", responsive=True, min_width=300, min_height=300, xformatter=dt_formatter\n",
    ")\n",
    "msems_intS_ts = flight_30s.msems_intS.hvplot.scatter(\n",
    "    label=\"mSEMS intS\", responsive=True, min_width=300, min_height=300, xformatter=dt_formatter\n",
    ")\n",
    "msems_intV_ts = flight_30s.msems_intV.hvplot.scatter(\n",
    "    label=\"mSEMS intV\", responsive=True, min_width=300, min_height=300, xformatter=dt_formatter\n",
    ")\n",
    "cdp_lwc_ts = flight.cdp_lwc.hvplot.scatter(\n",
    "    label=\"LWC\", c=\"blue\", responsive=True, min_width=300, min_height=300, xformatter=dt_formatter\n",
    ")\n",
    "\n",
    "if \"altitude\" in flight_30s:\n",
    "    msems_intN_alt = (\n",
    "        flight_30s.set_coords(\"msems_intN\")\n",
    "        .swap_dims({\"time\": \"msems_intN\"})\n",
    "        .reset_coords()[[\"altitude\"]]\n",
    "        .hvplot.scatter(\n",
    "            x=\"msems_intN\",\n",
    "            y=\"altitude\",\n",
    "            label=\"mSEMS intN\",\n",
    "            responsive=True,\n",
    "            min_width=300,\n",
    "            min_height=300,\n",
    "            xformatter=dt_formatter\n",
    "        )\n",
    "    )\n",
    "    msems_intS_alt = (\n",
    "        flight_30s.set_coords(\"msems_intN\")\n",
    "        .swap_dims({\"time\": \"msems_intS\"})\n",
    "        .reset_coords()[[\"altitude\"]]\n",
    "        .hvplot.scatter(\n",
    "            x=\"msems_intS\",\n",
    "            y=\"altitude\",\n",
    "            label=\"mSEMS intS\",\n",
    "            responsive=True,\n",
    "            min_width=300,\n",
    "            min_height=300,\n",
    "            xformatter=dt_formatter\n",
    "        )\n",
    "    )\n",
    "    msems_intV_alt = (\n",
    "        flight_30s.set_coords(\"msems_intN\")\n",
    "        .swap_dims({\"time\": \"msems_intV\"})\n",
    "        .reset_coords()[[\"altitude\"]]\n",
    "        .hvplot.scatter(\n",
    "            x=\"msems_intV\",\n",
    "            y=\"altitude\",\n",
    "            label=\"msems intV\",\n",
    "            responsive=True,\n",
    "            min_width=300,\n",
    "            min_height=300,\n",
    "            xformatter=dt_formatter\n",
    "        )\n",
    "    )\n",
    "    cdp_lwc_alt = (\n",
    "        flight.set_coords(\"cdp_lwc\")\n",
    "        .swap_dims({\"time\": \"cdp_lwc\"})\n",
    "        .reset_coords()[[\"altitude\", \"ambient_rh\"]]\n",
    "        .hvplot.scatter(\n",
    "            x=\"cdp_lwc\",\n",
    "            y=\"altitude\",\n",
    "            c=\"ambient_rh\",\n",
    "            label=\"LWC\",\n",
    "            cmap=\"rainbow\",\n",
    "            responsive=True,\n",
    "            min_width=300,\n",
    "            min_height=300,\n",
    "            xformatter=dt_formatter\n",
    "        )\n",
    "    )\n",
    "\n",
    "if \"ground_cn\" in flight:\n",
    "    ground_cn_ts = flight.ground_cn.hvplot.scatter(\n",
    "        label=\"ground cn\", responsive=True, min_width=300, min_height=300, xformatter=dt_formatter\n",
    "    )"
   ]
  },
  {
   "cell_type": "markdown",
   "id": "b0b5a039-2bf5-41ae-999b-e2f429a13f28",
   "metadata": {},
   "source": [
    "#### Data Plots\n",
    "Compose plots by using the assigned name above (or create new ones). Use \"+\" and \"\\*\" to create plots side-by-side or overlayed, respectively. E.g., \n",
    "\n",
    "```msems_intN + msems_intS``` \n",
    "\n",
    "will display plots of intN and intS side by side and will share the time axis."
   ]
  },
  {
   "cell_type": "code",
   "execution_count": null,
   "id": "42bbafef-7fe6-4531-8f9b-4abc6bb0a067",
   "metadata": {},
   "outputs": [],
   "source": [
    "# Example compositions\n",
    "# msems_dndlogdp_im + msems_dndlogdp_scans\n",
    "# msems_dndlogdp_im + msems_dsdlogdp_im + msems_dvdlogdp_im\n",
    "# msems_intN_ts + msems_intS_ts + msems_intV_ts\n"
   ]
  }
 ],
 "metadata": {
  "kernelspec": {
   "display_name": "Holoviz",
   "language": "python",
   "name": "holoviz"
  },
  "language_info": {
   "codemirror_mode": {
    "name": "ipython",
    "version": 3
   },
   "file_extension": ".py",
   "mimetype": "text/x-python",
   "name": "python",
   "nbconvert_exporter": "python",
   "pygments_lexer": "ipython3",
   "version": "3.7.11"
  }
 },
 "nbformat": 4,
 "nbformat_minor": 5
}
