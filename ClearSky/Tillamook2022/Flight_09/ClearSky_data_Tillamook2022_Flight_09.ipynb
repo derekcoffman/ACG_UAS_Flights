{
 "cells": [
  {
   "cell_type": "markdown",
   "id": "f6b28415-be67-465b-960a-8276ccf58148",
   "metadata": {
    "tags": []
   },
   "source": [
    "# UAS Flight Analysis: ClearSky"
   ]
  },
  {
   "cell_type": "markdown",
   "id": "721996cc-ac66-428b-ae02-352c13d9a3e5",
   "metadata": {
    "tags": []
   },
   "source": [
    "## Setup"
   ]
  },
  {
   "cell_type": "markdown",
   "id": "734337b1-062d-456a-b78b-1aa4b039e73c",
   "metadata": {
    "tags": []
   },
   "source": [
    "### Imports"
   ]
  },
  {
   "cell_type": "code",
   "execution_count": null,
   "id": "728ad105-d689-4fee-85e3-d05ee90e3001",
   "metadata": {},
   "outputs": [],
   "source": [
    "%load_ext autoreload\n",
    "%autoreload 2\n",
    "\n",
    "import json\n",
    "import os\n",
    "import sys\n",
    "\n",
    "from datetime import datetime, timedelta\n",
    "\n",
    "import hvplot\n",
    "import hvplot.pandas\n",
    "import hvplot.xarray\n",
    "import numpy as np\n",
    "import pandas as pd\n",
    "import xarray as xr\n",
    "\n",
    "import holoviews as hv\n",
    "from bokeh.models.renderers import GlyphRenderer\n",
    "from bokeh.models import Range1d, LinearAxis, DatetimeTickFormatter\n",
    "\n",
    "hv.extension('bokeh')\n",
    "\n",
    "# sys.path.insert(0, \"/home/derek/Software/python/envDataSystem_analysis/utilities\")\n",
    "flight_path = os.path.abspath(\"\")\n",
    "proj_path = os.path.dirname(os.path.dirname(os.path.dirname(os.path.abspath(\"\"))))\n",
    "code_path = os.path.join(proj_path, \"code\")\n",
    "if proj_path not in sys.path:\n",
    "    sys.path.insert(0, proj_path)\n",
    "if code_path not in sys.path:\n",
    "    sys.path.insert(0, code_path)\n",
    "# print(sys.path)\n",
    "from convert import Data, dt_to_string, string_to_dt\n",
    "from dataevent import (\n",
    "    DataEvent,\n",
    "    load_inverted_msems,\n",
    "    process_pops,\n",
    "    process_payload,\n",
    "    process_piccolo,\n",
    "    save_flight_itx\n",
    ")"
   ]
  },
  {
   "cell_type": "markdown",
   "id": "5c6795e4-1482-49e9-9c6f-bfba6dd4023d",
   "metadata": {
    "tags": []
   },
   "source": [
    "### Data systems\n",
    "Define the datasystem(s). This includes base paths, instruments with variable maps and extra parameters specific to each instrument. This should change to much flight to flight but the paths might need to be changed to point to the data."
   ]
  },
  {
   "cell_type": "code",
   "execution_count": null,
   "id": "5ab80f87-1b3a-4725-ac4d-2734b27721c9",
   "metadata": {},
   "outputs": [],
   "source": [
    "# get settings.json\n",
    "with open(os.path.join(\"config\", \"settings.json\")) as f:\n",
    "    config = json.load(f)\n",
    "\n",
    "flight_datasystems = {\n",
    "    \"ClearSky\": {\n",
    "        \"payload\": {\n",
    "            # \"base_path\": \"/path/to/your/data/to/override\",\n",
    "            \"base_path\": \"./data/payload\",\n",
    "            \"instruments\": {\n",
    "                \"payload\": {\n",
    "                    \"format\": \"clear-payload-dat\",\n",
    "                    \"timebase\": 1,\n",
    "                    \"dims\": [\"time\"],\n",
    "                    \"variables\": [\n",
    "                        (\"CONCN\", \"CONCN\", \"CN concentration\"),  # ,#/cc\n",
    "                        (\"ABSRA\", \"ABSRA\", \"PSAP red sample\"),  # counts,\n",
    "                        (\"ABSRB\", \"ABSRB\", \"PSAP red reference\"),  # counts,\n",
    "                        (\"ABSGA\", \"ABSGA\", \"PSAP green sample\"),  # counts,\n",
    "                        (\"ABSGB\", \"ABSGB\", \"PSAP green reference\"),  # counts,\n",
    "                        (\"ABSBA\", \"ABSBA\", \"PSAP blue sample\"),  # counts,\n",
    "                        (\"ABSBB\", \"ABSBB\", \"PSAP blue reference\"),  # counts,\n",
    "                        (\"CHMPS\", \"CHMPS\", \"Chem filter number\"),  # number,\n",
    "                        (\"AT\", \"AT\", \"Air temp from slow probe\"),  # ,Deg C\n",
    "                        (\"RH\", \"RH\", \"RH from slow probe\"),  # ,%\n",
    "                        (\"SMPFL\", \"SMPFL\", \"MCPC sample flow\"),  # ,cc/min\n",
    "                        (\n",
    "                            \"SMPFP\",\n",
    "                            \"SMPFP\",\n",
    "                            \"MCPC sample pump power settings\",\n",
    "                        ),  # (range 0 – 200),\n",
    "                        (\"SATFL\", \"SATFL\", \"MCPC Saturator flow\"),  # ,cc/min\n",
    "                        (\n",
    "                            \"SATFP\",\n",
    "                            \"SATFP\",\n",
    "                            \"MCPC saturator pump power settings\",\n",
    "                        ),  # (range 0 – 200),\n",
    "                        (\"ABSFL\", \"ABSFL\", \"PSAP flow\"),  # ,cc/min\n",
    "                        (\n",
    "                            \"ABSFP\",\n",
    "                            \"ABSFP\",\n",
    "                            \"MCPC saturator pump power settings\",\n",
    "                        ),  # (range 0 – 200),\n",
    "                        (\"CHMFL\", \"CHMFL\", \"Chem filter flow\"),  # ,cc/min\n",
    "                        (\n",
    "                            \"CHMFP\",\n",
    "                            \"CHMFP\",\n",
    "                            \"Chem filter pump power settings\",\n",
    "                        ),  # ( 0 – 200),\n",
    "                        (\"OPCFL\", \"POPS_FL\", \"POPS flow\"),  # ,cc/min\n",
    "                        (\"OPCFP\", \"OPCFP\", \"POPS pump power settings\"),  # (0 – 200),\n",
    "                        (\"OPTCT\", \"OPTCT\", \"MCPC optics block temp\"),  # ,deg C\n",
    "                        (\"OPTCP\", \"OPTCP\", \"MCPC optics block power\"),  # ,\n",
    "                        (\"CONDT\", \"CONDT\", \"MCPC condenser temperature\"),  # ,deg C\n",
    "                        (\"CONDP\", \"CONDP\", \"MCPC condenser power settings\"),  # ,\n",
    "                        (\"SATTT\", \"SATTT\", \"MCPC Saturator top temp\"),  # ,deg C\n",
    "                        (\"SATTP\", \"SATTP\", \"MCPC Saturator power setting\"),  # ,\n",
    "                        (\"SATBT\", \"SATBT\", \"MCPC Saturator bottom temp\"),  # ,deg C\n",
    "                        (\"SATBP\", \"SATBP\", \"MCPC Saurator bottom power setting\"),  # ,\n",
    "                        (\"INLTT\", \"INLTT\", \"Temp at the LEF manifold\"),  # ,deg C\n",
    "                        (\n",
    "                            \"FILLC\",\n",
    "                            \"FILLC\",\n",
    "                            \"BuOH indicator, starts incrementing when BuOH is below full\",\n",
    "                        ),  # ,\n",
    "                        (\n",
    "                            \"CABNT\",\n",
    "                            \"CABNT\",\n",
    "                            \"Temp on the MCPC side of payload\",\n",
    "                        ),  # ,deg C\n",
    "                        (\n",
    "                            \"PRESS\",\n",
    "                            \"PRESS\",\n",
    "                            \"Absolute pressure at in the flow manifold\",\n",
    "                        ),  # ,mb\n",
    "                        (\"PSAP-T\", \"PSAP_T\", \"PSAP Temp\"),  # ,deg C\n",
    "                        (\"PSAP-RH\", \"PSAP-RH\", \"PSAP RH\"),  # ,%\n",
    "                        (\"POPS-T\", \"POPS_T\", \"POPS Temp\"),  # ,deg C\n",
    "                        (\"POPS-RH\", \"POPS_RH\", \"POPS RH\"),  # ,%\n",
    "                        (\"FastT\", \"FastT\", \"Fast temp sensor\"),  # ,deg C\n",
    "                        (\"FastRH\", \"FastRH\", \"Fast RH sensor\"),  # ,%\n",
    "                    ],\n",
    "                },\n",
    "            },\n",
    "        },\n",
    "        \"pops\": {\n",
    "            # \"base_path\": \"/path/to/your/data/to/override\",\n",
    "            \"base_path\": \"./data/pops\",\n",
    "            \"instruments\": {\n",
    "                \"pops\": {\n",
    "                    \"format\": \"pops-bin\",\n",
    "                    \"timebase\": 30,\n",
    "                    \"resample\": False,\n",
    "                    \"dims\": [\"time\", \"pops_bins\"],\n",
    "                    \"bin_count\": 26,\n",
    "                    \"calibration_file\": \"/home/derek/Data/UAS/pops_calibration/Cal_curve.csv\",\n",
    "                    \"process_options\": {\"type\": \"pops\"},\n",
    "                    \"variables\": [\n",
    "                        (\"bin_counts\", \"pops_bin_counts\", \"clear_pops_bin_counts\"),\n",
    "                        (\"diameter_um\", \"pops_dp_um_2d\", \"cloudy_msems_diameter_um\"),\n",
    "                    ],\n",
    "                }\n",
    "            },\n",
    "        },\n",
    "    },\n",
    "    \"GroundStation\": {\n",
    "        \"uasground\": {\n",
    "            # \"base_path\": \"/path/to/your/data/to/override\",\n",
    "            \"base_path\": config[\"data_paths\"][\"envdsys_groundstation_data_path\"],\n",
    "            \"instruments\": {\n",
    "                \"amcpc_cn\": {\n",
    "                    \"format\": \"envdsys\",\n",
    "                    \"timebase\": 1,\n",
    "                    \"dims\": [\"time\"],\n",
    "                    \"variables\": [\n",
    "                        (\"concentration\", \"ground_cn\", \"amcpc_cn_concentration\"),\n",
    "                    ],\n",
    "                },\n",
    "                # \"magic_cn\": {\n",
    "                #     \"format\": \"envdsys\",\n",
    "                #     \"timebase\": 1,\n",
    "                #     \"dims\": [\"time\"],\n",
    "                #     \"variables\": [\n",
    "                #         (\"concentration\", \"magci_cn\", \"magic_cn_concentration\"),\n",
    "                #     ]\n",
    "                # }\n",
    "            },\n",
    "        }\n",
    "    },\n",
    "    \"AutoPilot\": {\n",
    "        \"navigation\": {\n",
    "            # \"base_path\": \"/alternate/path/to/override\", \n",
    "            \"base_path\": \"./data/piccolo\",\n",
    "            \"instruments\": {\n",
    "                \"piccolo\": {\n",
    "                    \"format\": \"piccolo-log\",\n",
    "                    \"timebase\": 1,\n",
    "                    \"dims\": [\"time\"],\n",
    "                    \"variables\": [\n",
    "                        (\"Lat\", \"latitude\", \"\"),\n",
    "                        (\"Lon\", \"longitude\", \"\"),\n",
    "                        (\"Height\", \"altitude\", \"\"),\n",
    "                        (\"GroundSpeed\", \"ground_speed\", \"\"),\n",
    "                        (\"Direction\", \"heading\", \"\"),\n",
    "                        (\"BaroAlt\", \"pressure_altitude\", \"\"),\n",
    "                        (\"TAS\", \"true_air_speed\", \"\"),\n",
    "                        (\"Roll\", \"roll\", \"\"),\n",
    "                        (\"Pitch\", \"pitch\", \"\"),\n",
    "                        (\"Yaw\", \"yaw\", \"\"),\n",
    "                        (\"MagHdg\", \"heading_mag\", \"\"),\n",
    "                        (\"AGL\", \"height_agl\", \"\"),\n",
    "                    ]\n",
    "                }\n",
    "            }\n",
    "        }\n",
    "    }\n",
    "}"
   ]
  },
  {
   "cell_type": "markdown",
   "id": "15c3e1bf-ecb3-473c-ae14-0ad145959962",
   "metadata": {
    "tags": []
   },
   "source": [
    "## Flight Details"
   ]
  },
  {
   "cell_type": "markdown",
   "id": "46d034a8-1d0f-42b8-bfd5-b94e0ec2d479",
   "metadata": {
    "tags": []
   },
   "source": [
    "### Flight ID"
   ]
  },
  {
   "cell_type": "code",
   "execution_count": null,
   "id": "e13ee95d-bada-4f6c-977a-5fb5982fc382",
   "metadata": {},
   "outputs": [],
   "source": [
    "# override settings here\n",
    "# project = \"<ProjectID>\"\n",
    "# # project_long_name = \"<Long Project Name>\"\n",
    "# platform = \"<PlatformName>\" # FVR-55, AeroPhys, RHBrown\n",
    "# flight_id = \"<Flight_??>\"\n",
    "\n",
    "project = config[\"project\"]\n",
    "# project_long_name = \"<Long Project Name>\"\n",
    "platform = config[\"platform\"] # FVR-55, AeroPhys, RHBrown\n",
    "flight_id = config[\"flight_id\"]"
   ]
  },
  {
   "cell_type": "markdown",
   "id": "f8fe26f6-5993-4f6a-95b1-af262e628d7c",
   "metadata": {
    "tags": []
   },
   "source": [
    "### Event Data"
   ]
  },
  {
   "cell_type": "code",
   "execution_count": null,
   "id": "a0d1e0e0-e3ce-4951-8bfc-eafb5345ca95",
   "metadata": {},
   "outputs": [],
   "source": [
    "# shouldn't change this if using the templates\n",
    "# payload_id = \"ClearSky\"\n",
    "payload_id = config[\"payload_id\"]\n",
    "\n",
    "flight_event_config = {\n",
    "    \"preflight\": {},\n",
    "    \"flight\": {\n",
    "        \"start_time\": \"YYYY-mm-ddTHH:MM:SSZ\", # enter valid start time\n",
    "        \"end_time\": \"YYYY-mm-ddTHH:MM:SSZ\",   # enter valid start time\n",
    "        \"datasystems\": [\"ClearSky\", \"AutoPilot\", \"GroundStation\"],\n",
    "    },\n",
    "    \"postflight\": {},\n",
    "}\n",
    "\n",
    "# --- automatically generated - don't edit below this line ---\n",
    "flight_config = {\n",
    "    \"kind\": \"ClearSkyFlight\",\n",
    "    \"metadata\": {\"project\": project, \"platform\": platform, \"flight_id\": flight_id, \"payload_id\": payload_id},\n",
    "    \"events\": flight_event_config,\n",
    "    \"datasystems\": flight_datasystems,\n",
    "}\n",
    "# flight_config"
   ]
  },
  {
   "cell_type": "markdown",
   "id": "403e5d2a-910b-4b68-9800-942850f1199c",
   "metadata": {
    "jp-MarkdownHeadingCollapsed": true,
    "tags": []
   },
   "source": [
    "## Load Data\n",
    "Un/comment lines as needed. Multiple events can be processed if wanted. Will load data based on Event Data cell above"
   ]
  },
  {
   "cell_type": "markdown",
   "id": "21f49fd4-8a20-4420-bfc3-0e58c71c6b3a",
   "metadata": {
    "tags": []
   },
   "source": [
    "### Create Event(s)"
   ]
  },
  {
   "cell_type": "code",
   "execution_count": null,
   "id": "dd51629f-0331-4238-8b60-9f18d4ab4791",
   "metadata": {},
   "outputs": [],
   "source": [
    "# create preflight event\n",
    "# preflight_event = DataEvent(\"preflight\", config=flight_config)\n",
    "\n",
    "# create flight event\n",
    "flight_event = DataEvent(\"flight\", config=flight_config)\n",
    "\n",
    "# create postflight event\n",
    "# postflight_event = DataEvent(\"postflight\", config=flight_config)"
   ]
  },
  {
   "cell_type": "markdown",
   "id": "ed6bf7c2-6b03-4be9-8349-be3cbcae749a",
   "metadata": {
    "tags": []
   },
   "source": [
    "### Process data"
   ]
  },
  {
   "cell_type": "markdown",
   "id": "35b46470-0d8b-43ef-860d-592bd38a2ed3",
   "metadata": {},
   "source": [
    "#### Payload"
   ]
  },
  {
   "cell_type": "code",
   "execution_count": null,
   "id": "ea47b08b-ef3d-461b-9094-71e911ef0752",
   "metadata": {},
   "outputs": [],
   "source": [
    "# pre_msems = preflight_event.get_dataset(\"cloudy_cdp\", datasystem=\"CloudySky\", controller=\"uas_cloudy\")\n",
    "# process_msems(pre_msems)\n",
    "payload = flight_event.get_dataset(\"payload\", datasystem=\"ClearSky\", controller=\"payload\")\n",
    "ref_init = {\n",
    "    # payload.time.values[0]: {\n",
    "    '2022-02-16T20:00:00': {\n",
    "        \"init_450\": 0.813,\n",
    "        \"init_525\": 0.813,\n",
    "        \"init_624\": 0.819,\n",
    "    },\n",
    "}\n",
    "\n",
    "flight_event.process_payload(\"payload\", datasystem=\"ClearSky\", controller=\"payload\", ref_init=ref_init)\n",
    "payload = flight_event.get_dataset(\"payload\", datasystem=\"ClearSky\", controller=\"payload\")\n",
    "# process_cdp(cdp)\n",
    "\n",
    "# post_msems = flight_event.get_dataset(\"cloudy_cdp\", datasystem=\"CloudySky\", controller=\"uas_cloudy\")\n",
    "# process_msems(post_msems)\n",
    "# payload"
   ]
  },
  {
   "cell_type": "markdown",
   "id": "5456c752-d7ba-48b9-ad6a-a8265b844903",
   "metadata": {},
   "source": [
    "#### POPS"
   ]
  },
  {
   "cell_type": "code",
   "execution_count": null,
   "id": "6902ae4c-289c-4164-9ea6-db07052c02c5",
   "metadata": {},
   "outputs": [],
   "source": [
    "# preflight_event.process_pops(\"pops\", datasystem=\"ClearSky\", controller=\"pops\")\n",
    "# preflight_pops = flight_event.get_dataset(\"pops\", datasystem=\"ClearSky\", controller=\"pops\")\n",
    "\n",
    "flight_event.process_pops(\"pops\", datasystem=\"ClearSky\", controller=\"pops\")\n",
    "pops = flight_event.get_dataset(\"pops\", datasystem=\"ClearSky\", controller=\"pops\")\n",
    "# process_cdp(cdp)\n",
    "\n",
    "# postflight_event.process_pops(\"pops\", datasystem=\"ClearSky\", controller=\"pops\")\n",
    "# postflight_pops = flight_event.get_dataset(\"pops\", datasystem=\"ClearSky\", controller=\"pops\")\n",
    "# pops"
   ]
  },
  {
   "cell_type": "markdown",
   "id": "53fdd540-beb4-4581-9110-530224216643",
   "metadata": {
    "tags": []
   },
   "source": [
    "### Merge datasets\n",
    "Combine datasets on a common timebase. User can specify timebase (tb=1 is default) and list of datasets (ds_list). If ds_list is omitted, all available datasets are merged."
   ]
  },
  {
   "cell_type": "code",
   "execution_count": null,
   "id": "384b33f3-aba4-4957-b52d-8205402649ac",
   "metadata": {},
   "outputs": [],
   "source": [
    "# preflight = preflight_event.merge()\n",
    "# preflight_30s = preflight_event.merge(tb=30, ds_list=[\"pops\", \"payload\", \"amcpc_cn\"])\n",
    "# if \"POPS_FL\" in preflight_30s:\n",
    "#     preflight_30s = process_pops(preflight_30s, flow_rate=(preflight_30s.POPS_FL / 60))\n",
    "\n",
    "flight = flight_event.merge()\n",
    "flight_30s = flight_event.merge(tb=30, ds_list=[\"pops\", \"payload\", \"amcpc_cn\"])\n",
    "if \"POPS_FL\" in flight_30s:\n",
    "    flight_30s = process_pops(flight_30s, flow_rate=(flight_30s.POPS_FL / 60))\n",
    "\n",
    "# postflight = postflight_event.merge()\n",
    "# postflight_30s = postflight_event.merge(tb=30, ds_list=[\"pops\", \"payload\", \"amcpc_cn\"])\n",
    "# if \"POPS_FL\" in postflight_30s:\n",
    "#     postflight_30s = process_pops(postflight_30s, flow_rate=(postflight_30s.POPS_FL / 60))"
   ]
  },
  {
   "cell_type": "markdown",
   "id": "5de54d06-03b2-47f0-9740-4cdc0c50b756",
   "metadata": {},
   "source": [
    "### Save datasets"
   ]
  },
  {
   "cell_type": "code",
   "execution_count": null,
   "id": "eb628cc9-9413-4b96-89e6-79b8c78b5e17",
   "metadata": {},
   "outputs": [],
   "source": [
    "# save_flight_itx(preflight)\n",
    "# save_flight_itx(preflight_30s)\n",
    "\n",
    "save_flight_itx(flight)\n",
    "save_flight_itx(flight_30s)\n",
    "\n",
    "# save_flight_itx(postflight)\n",
    "# save_flight_itx(postflight_30s)"
   ]
  },
  {
   "cell_type": "markdown",
   "id": "e792cab2-19f5-4973-ba1f-d943994c5433",
   "metadata": {
    "tags": []
   },
   "source": [
    "## Data Analysis\n",
    "Add descriptive text in [markdown](https://jupyter-notebook.readthedocs.io/en/latest/examples/Notebook/Working%20With%20Markdown%20Cells.html) cells and run code in the default code cells. "
   ]
  },
  {
   "cell_type": "markdown",
   "id": "04f004d3-fcd6-4823-a6f8-a2405853b281",
   "metadata": {},
   "source": [
    "*This would be description of particular data analysis*"
   ]
  },
  {
   "cell_type": "code",
   "execution_count": null,
   "id": "86f4d2a6-44f2-42a9-bbab-bef7e417c045",
   "metadata": {},
   "outputs": [],
   "source": [
    "# code cell\n",
    "flight"
   ]
  },
  {
   "cell_type": "code",
   "execution_count": null,
   "id": "dda7b518-8ea5-4248-b6e4-8952c546a1fe",
   "metadata": {},
   "outputs": [],
   "source": [
    "flight_30s"
   ]
  },
  {
   "cell_type": "markdown",
   "id": "42fdefbb-384c-4cb9-8316-6492298a4726",
   "metadata": {},
   "source": [
    "### Visualization"
   ]
  },
  {
   "cell_type": "markdown",
   "id": "9ca289e9-50c7-4fde-861a-e2c8526d2920",
   "metadata": {
    "tags": []
   },
   "source": [
    "#### Standard Plot Definitions\n",
    "This is a list of standard plots that we might want to see. Run the following cell to create the plots for use below. "
   ]
  },
  {
   "cell_type": "code",
   "execution_count": null,
   "id": "e3494aa2-2ecf-4fcc-b544-f45db853be9d",
   "metadata": {},
   "outputs": [],
   "source": [
    "dt_formatter = DatetimeTickFormatter(\n",
    "    years=\"%Y\", months=\"%Y-%m\", days=\"%F\", hours=\"%m-%d %H:%M\", hourmin=\"%m-%d %H:%M\", minutes=\"%H:%M\", minsec=\"%T\", seconds=\"%T\", milliseconds=\"%T.%1N\"\n",
    ")\n",
    "\n",
    "pops_dndlogdp_im = (\n",
    "    flight_30s.set_coords(\"time_mid\")\n",
    "    .swap_dims({\"time\": \"time_mid\", \"pops_bins\": \"pops_dp_um\"})\n",
    "    .reset_coords()\n",
    "    .pops_dNdlogDp.hvplot.quadmesh(\n",
    "        x=\"time_mid\",\n",
    "        y=\"pops_dp_um\",\n",
    "        logy=True,\n",
    "        cmap=\"rainbow\",\n",
    "        responsive=True,\n",
    "        min_width=300,\n",
    "        min_height=300,\n",
    "        xformatter=dt_formatter,\n",
    "        label=\"POPS dNdlogDp\"\n",
    "    )\n",
    ")\n",
    "pops_dndlogdp_scans = (\n",
    "    flight_30s.set_coords(\"time_mid\")\n",
    "    .swap_dims({\"pops_bins\": \"pops_dp_um\"})\n",
    "    .reset_coords()\n",
    "    .pops_dNdlogDp.hvplot.line(\n",
    "        x=\"pops_dp_um\", logx=True, responsive=True, min_width=300, min_height=300, label=\"POPS dNdlogDp\"\n",
    "    )\n",
    ")\n",
    "\n",
    "pops_dsdlogdp_im = (\n",
    "    flight_30s.set_coords(\"time_mid\")\n",
    "    .swap_dims({\"time\": \"time_mid\", \"pops_bins\": \"pops_dp_um\"})\n",
    "    .reset_coords()\n",
    "    .pops_dSdlogDp.hvplot.quadmesh(\n",
    "        x=\"time_mid\",\n",
    "        y=\"pops_dp_um\",\n",
    "        logy=True,\n",
    "        cmap=\"rainbow\",\n",
    "        responsive=True,\n",
    "        min_width=300,\n",
    "        min_height=300,\n",
    "        xformatter=dt_formatter,\n",
    "        label=\"POPS dSdlogDp\"\n",
    "    )\n",
    ")\n",
    "pops_dsdlogdp_scans = (\n",
    "    flight_30s.set_coords(\"time_mid\")\n",
    "    .swap_dims({\"pops_bins\": \"pops_dp_um\"})\n",
    "    .reset_coords()\n",
    "    .pops_dSdlogDp.hvplot.line(\n",
    "        x=\"pops_dp_um\", logx=True, responsive=True, min_width=300, min_height=300, label=\"POPS dSdlogDp\"\n",
    "    )\n",
    ")\n",
    "\n",
    "pops_dvdlogdp_im = (\n",
    "    flight_30s.set_coords(\"time_mid\")\n",
    "    .swap_dims({\"time\": \"time_mid\", \"pops_bins\": \"pops_dp_um\"})\n",
    "    .reset_coords()\n",
    "    .pops_dVdlogDp.hvplot.quadmesh(\n",
    "        x=\"time_mid\",\n",
    "        y=\"pops_dp_um\",\n",
    "        logy=True,\n",
    "        cmap=\"rainbow\",\n",
    "        responsive=True,\n",
    "        min_width=300,\n",
    "        min_height=300,\n",
    "        xformatter=dt_formatter,\n",
    "        label=\"POPS dVdlogDp\"\n",
    "    )\n",
    ")\n",
    "pops_dvdlogdp_scans = (\n",
    "    flight_30s.set_coords(\"time_mid\")\n",
    "    .swap_dims({\"pops_bins\": \"pops_dp_um\"})\n",
    "    .reset_coords()\n",
    "    .pops_dVdlogDp.hvplot.line(\n",
    "        x=\"pops_dp_um\", logx=True, responsive=True, min_width=300, min_height=300, label=\"POPS dVdlogDp\"\n",
    "    )\n",
    ")\n",
    "\n",
    "pops_intN_ts = flight_30s.pops_intN.hvplot.scatter(\n",
    "    label=\"POPS intN\", responsive=True, min_width=300, min_height=300, xformatter=dt_formatter\n",
    ")\n",
    "pops_intS_ts = flight_30s.pops_intS.hvplot.scatter(\n",
    "    label=\"POPS intS\", responsive=True, min_width=300, min_height=300, xformatter=dt_formatter\n",
    ")\n",
    "pops_intV_ts = flight_30s.pops_intV.hvplot.scatter(\n",
    "    label=\"POPS intV\", responsive=True, min_width=300, min_height=300, xformatter=dt_formatter\n",
    ")\n",
    "\n",
    "payload_cn_ts = flight.CONCN.hvplot.scatter(\n",
    "    label=\"CN\", responsive=True, min_width=300, min_height=300, xformatter=dt_formatter\n",
    ")\n",
    "\n",
    "bap_450_ts = flight.bap_450.hvplot.scatter(c=\"blue\", label=\"Bap(450nm)\", responsive=True, min_width=300, min_height=300, xformatter=dt_formatter)\n",
    "bap_525_ts = flight.bap_525.hvplot.scatter(c=\"green\", label=\"Bap(525nm)\", responsive=True, min_width=300, min_height=300, xformatter=dt_formatter)\n",
    "bap_624_ts = flight.bap_624.hvplot.scatter(c=\"red\", label=\"Bap(624nm)\", responsive=True, min_width=300, min_height=300, xformatter=dt_formatter)\n",
    "\n",
    "if \"altitude\" in flight_30s:\n",
    "    pops_intN_alt = (\n",
    "        flight_30s.set_coords(\"pops_intN\")\n",
    "        .swap_dims({\"time\": \"pops_intN\"})\n",
    "        .reset_coords()[[\"altitude\"]]\n",
    "        .hvplot.scatter(\n",
    "            x=\"pops_intN\",\n",
    "            y=\"altitude\",\n",
    "            label=\"POPS intN\",\n",
    "            responsive=True,\n",
    "            min_width=300,\n",
    "            min_height=300,\n",
    "            xformatter=dt_formatter\n",
    "        )\n",
    "    )\n",
    "    pops_intS_alt = (\n",
    "        flight_30s.set_coords(\"pops_intN\")\n",
    "        .swap_dims({\"time\": \"pops_intS\"})\n",
    "        .reset_coords()[[\"altitude\"]]\n",
    "        .hvplot.scatter(\n",
    "            x=\"pops_intS\",\n",
    "            y=\"altitude\",\n",
    "            label=\"POPS intS\",\n",
    "            responsive=True,\n",
    "            min_width=300,\n",
    "            min_height=300,\n",
    "            xformatter=dt_formatter\n",
    "        )\n",
    "    )\n",
    "    pops_intV_alt = (\n",
    "        flight_30s.set_coords(\"pops_intN\")\n",
    "        .swap_dims({\"time\": \"pops_intV\"})\n",
    "        .reset_coords()[[\"altitude\"]]\n",
    "        .hvplot.scatter(\n",
    "            x=\"pops_intV\",\n",
    "            y=\"altitude\",\n",
    "            label=\"POPS intV\",\n",
    "            responsive=True,\n",
    "            min_width=300,\n",
    "            min_height=300,\n",
    "            xformatter=dt_formatter\n",
    "        )\n",
    "    )\n",
    "    payload_cn_alt = (\n",
    "        flight.set_coords(\"CONCN\")\n",
    "        .swap_dims({\"time\": \"CONCN\"})\n",
    "        .reset_coords()[[\"altitude\"]]\n",
    "        .hvplot.scatter(\n",
    "            x=\"CONCN\",\n",
    "            y=\"altitude\",\n",
    "            # c=\"ambient_rh\",\n",
    "            label=\"cn\",\n",
    "            # cmap=\"rainbow\",\n",
    "            responsive=True,\n",
    "            min_width=300,\n",
    "            min_height=300,\n",
    "            xformatter=dt_formatter\n",
    "        )\n",
    "    )\n",
    "\n",
    "    bap_450_alt = (\n",
    "            flight.set_coords(\"bap_450\")\n",
    "            .swap_dims({\"time\": \"bap_450\"})\n",
    "            .reset_coords()[[\"altitude\"]]\n",
    "            .hvplot.scatter(\n",
    "                x=\"bap_450\",\n",
    "                y=\"altitude\",\n",
    "                c=\"blue\",\n",
    "                label=\"Bap(450nm)\",\n",
    "                responsive=True,\n",
    "                min_width=300,\n",
    "                min_height=300,\n",
    "                xformatter=dt_formatter\n",
    "            )\n",
    "        )\n",
    "\n",
    "if \"ground_cn\" in flight:\n",
    "    ground_cn_ts = flight.ground_cn.hvplot.scatter(\n",
    "        label=\"ground cn\", responsive=True, min_width=300, min_height=300, xformatter=dt_formatter\n",
    "    )"
   ]
  },
  {
   "cell_type": "markdown",
   "id": "b0b5a039-2bf5-41ae-999b-e2f429a13f28",
   "metadata": {
    "tags": []
   },
   "source": [
    "#### Data Plots\n",
    "Compose plots by using the assigned name above (or create new ones). Use \"+\" and \"\\*\" to create plots side-by-side or overlayed, respectively. E.g., \n",
    "\n",
    "```msems_intN + msems_intS``` \n",
    "\n",
    "will display plots of intN and intS side by side and will share the time axis."
   ]
  },
  {
   "cell_type": "code",
   "execution_count": null,
   "id": "42bbafef-7fe6-4531-8f9b-4abc6bb0a067",
   "metadata": {},
   "outputs": [],
   "source": [
    "# Example compositions\n",
    "# msems_dndlogdp_im + msems_dndlogdp_scans\n",
    "# msems_dndlogdp_im + msems_dsdlogdp_im + msems_dvdlogdp_im\n",
    "# msems_intN+msems_intS+msems_intV\n",
    "(bap_450_ts*bap_525_ts*bap_624_ts).opts(ylim=(0,2)) + ground_cn_ts.opts(ylim=(0,2000))"
   ]
  }
 ],
 "metadata": {
  "kernelspec": {
   "display_name": "Holoviz",
   "language": "python",
   "name": "holoviz"
  },
  "language_info": {
   "codemirror_mode": {
    "name": "ipython",
    "version": 3
   },
   "file_extension": ".py",
   "mimetype": "text/x-python",
   "name": "python",
   "nbconvert_exporter": "python",
   "pygments_lexer": "ipython3",
   "version": "3.7.11"
  }
 },
 "nbformat": 4,
 "nbformat_minor": 5
}
